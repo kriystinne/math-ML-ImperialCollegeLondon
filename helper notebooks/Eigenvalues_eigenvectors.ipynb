{
 "cells": [
  {
   "cell_type": "markdown",
   "metadata": {},
   "source": [
    "## EIGENVECTORS AND EIGENVALUES FROM A MATRIX"
   ]
  },
  {
   "cell_type": "code",
   "execution_count": 1,
   "metadata": {
    "ExecuteTime": {
     "end_time": "2020-09-24T14:36:45.842625Z",
     "start_time": "2020-09-24T14:36:37.436169Z"
    },
    "scrolled": true
   },
   "outputs": [],
   "source": [
    "import numpy as np\n",
    "from numpy import linalg as LA\n",
    "import matplotlib.pyplot as plt\n",
    "from plotnine import *\n",
    "import scipy.linalg as la\n",
    "from sympy.interactive.printing import init_printing\n",
    "from sympy.matrices import Matrix, eye, zeros, ones, diag, GramSchmidt\n",
    "%matplotlib inline\n",
    "plt.style.use('ggplot')"
   ]
  },
  {
   "cell_type": "code",
   "execution_count": 2,
   "metadata": {
    "ExecuteTime": {
     "end_time": "2020-09-24T14:36:45.850674Z",
     "start_time": "2020-09-24T14:36:45.845478Z"
    }
   },
   "outputs": [
    {
     "name": "stdout",
     "output_type": "stream",
     "text": [
      "['seaborn-dark', 'seaborn-darkgrid', 'seaborn-ticks', 'fivethirtyeight', 'seaborn-whitegrid', 'classic', '_classic_test', 'fast', 'seaborn-talk', 'seaborn-dark-palette', 'seaborn-bright', 'seaborn-pastel', 'grayscale', 'seaborn-notebook', 'ggplot', 'seaborn-colorblind', 'seaborn-muted', 'seaborn', 'Solarize_Light2', 'seaborn-paper', 'bmh', 'tableau-colorblind10', 'seaborn-white', 'dark_background', 'seaborn-poster', 'seaborn-deep']\n"
     ]
    }
   ],
   "source": [
    "print(plt.style.available)"
   ]
  },
  {
   "cell_type": "code",
   "execution_count": 3,
   "metadata": {
    "ExecuteTime": {
     "end_time": "2020-09-24T14:36:45.859105Z",
     "start_time": "2020-09-24T14:36:45.854496Z"
    }
   },
   "outputs": [],
   "source": [
    "# import jtplot module in notebook\n",
    "#from jupyterthemes import jtplot\n",
    "\n",
    "# choose which theme to inherit plotting style from\n",
    "# onedork | grade3 | oceans16 | chesterish | monokai | solarizedl | solarizedd\n",
    "#jtplot.style(theme='oceans16')\n",
    "\n",
    "# set \"context\" (paper, notebook, talk, poster)\n",
    "# scale font-size of ticklabels, legend, etc.\n",
    "# remove spines from x and y axes and make grid dashed\n",
    "#jtplot.style(context='notebook', fscale=1.2, spines=False, ticks=True, gridlines='-')\n",
    "\n",
    "# turn on X- and Y-axis tick marks (default=False)\n",
    "# turn off the axis grid lines (default=True)\n",
    "# and set the default figure size\n",
    "# jtplot.style(ticks=True, grid=True)\n",
    "\n",
    "# reset default matplotlib rcParams\n"
   ]
  },
  {
   "cell_type": "code",
   "execution_count": 4,
   "metadata": {
    "ExecuteTime": {
     "end_time": "2020-09-24T14:36:46.097191Z",
     "start_time": "2020-09-24T14:36:45.862239Z"
    }
   },
   "outputs": [],
   "source": [
    "init_printing(use_unicode=True, wrap_line=True)"
   ]
  },
  {
   "cell_type": "markdown",
   "metadata": {},
   "source": [
    "Let **A** be a square matrix.\n",
    "S non-zero vector **v** is an eigenvector for A with eigenvalue $\\lambda$ if:\n",
    "$$Av = \\lambda v$$\n",
    "Rearranging the equations, we see that **v** is a solution of the homogenous system of equations:\n",
    "$$(A - \\lambda I)v = 0$$\n",
    "where I is the identity matrix of size n.\n",
    "\n",
    "Non-trivial solutions exist only if the matrix $A- \\lambda I$ is singular => $det(A - \\lambda I) = 0$.\n",
    "\n",
    "<font color=red>Eigenvalues of A are roots of the CHARACTERISTIC POLYNOMIAL</font>:\n",
    "$$p(\\lambda) = det(A - \\lambda I)$$\n",
    "\n",
    "***\n",
    "Scipy package helps in computing the eigenvalues and eigenvectors of a square matrix A.\n",
    "\n",
    "**scipy.linalg.eig** - computes eigenvalues and eigenvectors of a square matrix A\n",
    "***\n",
    "\n",
    "<font color=red>**!!! In numpy linalg and scipy the eigenvectors are normalized so their Euclidean norms are 1** </font>"
   ]
  },
  {
   "cell_type": "markdown",
   "metadata": {},
   "source": [
    "### How it works step by step"
   ]
  },
  {
   "cell_type": "code",
   "execution_count": 5,
   "metadata": {
    "ExecuteTime": {
     "end_time": "2020-09-24T14:36:46.108141Z",
     "start_time": "2020-09-24T14:36:46.099832Z"
    }
   },
   "outputs": [
    {
     "data": {
      "text/plain": [
       "array([[3, 4],\n",
       "       [0, 5]])"
      ]
     },
     "execution_count": 5,
     "metadata": {},
     "output_type": "execute_result"
    }
   ],
   "source": [
    "# crate an array (vectors are in the columns, so x coord go first, y in the second)\n",
    "M = np.array([[3,4], [0,5]])\n",
    "M"
   ]
  },
  {
   "cell_type": "code",
   "execution_count": 6,
   "metadata": {
    "ExecuteTime": {
     "end_time": "2020-09-24T14:36:46.117996Z",
     "start_time": "2020-09-24T14:36:46.110269Z"
    }
   },
   "outputs": [
    {
     "data": {
      "text/plain": [
       "(array([3.+0.j, 5.+0.j]), array([[1.        , 0.89442719],\n",
       "        [0.        , 0.4472136 ]]))"
      ]
     },
     "execution_count": 6,
     "metadata": {},
     "output_type": "execute_result"
    }
   ],
   "source": [
    "# USING SCIPY the formula results a tuple in the form (eigvals, eigvecs)\n",
    "results = la.eig(M)\n",
    "results"
   ]
  },
  {
   "cell_type": "code",
   "execution_count": 7,
   "metadata": {
    "ExecuteTime": {
     "end_time": "2020-09-24T14:36:46.128261Z",
     "start_time": "2020-09-24T14:36:46.122014Z"
    }
   },
   "outputs": [
    {
     "data": {
      "text/plain": [
       "array([3., 5.])"
      ]
     },
     "execution_count": 7,
     "metadata": {},
     "output_type": "execute_result"
    }
   ],
   "source": [
    "# print the eigenvalues of A (these are real numbers so we can print them accordingly)\n",
    "results[0].real"
   ]
  },
  {
   "cell_type": "code",
   "execution_count": 8,
   "metadata": {
    "ExecuteTime": {
     "end_time": "2020-09-24T14:36:46.144667Z",
     "start_time": "2020-09-24T14:36:46.132943Z"
    }
   },
   "outputs": [
    {
     "data": {
      "text/plain": [
       "array([[1.        , 0.89442719],\n",
       "       [0.        , 0.4472136 ]])"
      ]
     },
     "execution_count": 8,
     "metadata": {},
     "output_type": "execute_result"
    }
   ],
   "source": [
    "# print the corresponding eigenvectors\n",
    "results[1]"
   ]
  },
  {
   "cell_type": "code",
   "execution_count": 9,
   "metadata": {
    "ExecuteTime": {
     "end_time": "2020-09-24T14:36:46.176754Z",
     "start_time": "2020-09-24T14:36:46.150510Z"
    }
   },
   "outputs": [
    {
     "name": "stdout",
     "output_type": "stream",
     "text": [
      "The eigenvalues are:  [3. 5.]\n",
      "The eigenvectors are: \n",
      " [[1.         0.89442719]\n",
      " [0.         0.4472136 ]]\n"
     ]
    }
   ],
   "source": [
    "# unpacking the tuple\n",
    "eigvals, eigvecs = LA.eig(M)\n",
    "\n",
    "print(\"The eigenvalues are: \", eigvals.real)\n",
    "print(\"The eigenvectors are: \\n\", eigvecs)"
   ]
  },
  {
   "cell_type": "markdown",
   "metadata": {},
   "source": [
    "**Check the eigenvector/eigenvalue condition $Au = \\lambda u$ where $u$ is the eigenvector and $\\lambda$ is its eigenvalue**  \n",
    "- from the previous results, we have lambda1 = 3 and lambda2 = 5\n",
    "- we can index them to extract each individually\n",
    "- **we multiply the eigenvector by M (original matrix) and check that it is the same as multiplying the same eigenvector by its eigenvalue**\n",
    "\n",
    "$u$ - one of the eigenvectors resulting from the calculations  \n",
    "$\\lambda$ -corresponding eigenvalue for the previous vector  \n",
    "$M$ - matrix given as input for the calculations"
   ]
  },
  {
   "cell_type": "code",
   "execution_count": 10,
   "metadata": {
    "ExecuteTime": {
     "end_time": "2020-09-24T14:36:46.208761Z",
     "start_time": "2020-09-24T14:36:46.189114Z"
    }
   },
   "outputs": [
    {
     "data": {
      "text/plain": [
       "array([0.89442719, 0.4472136 ])"
      ]
     },
     "execution_count": 10,
     "metadata": {},
     "output_type": "execute_result"
    }
   ],
   "source": [
    "# take the second eigenvector\n",
    "u = eigvecs[:, 1]\n",
    "u"
   ]
  },
  {
   "cell_type": "code",
   "execution_count": 11,
   "metadata": {
    "ExecuteTime": {
     "end_time": "2020-09-24T14:36:47.399363Z",
     "start_time": "2020-09-24T14:36:46.211364Z"
    }
   },
   "outputs": [
    {
     "data": {
      "image/png": "[encoded data removed]",
      "text/latex": [
       "$\\displaystyle 5.0$"
      ],
      "text/plain": [
       "5.0"
      ]
     },
     "execution_count": 11,
     "metadata": {},
     "output_type": "execute_result"
    }
   ],
   "source": [
    "# take the second lambda\n",
    "lambdaM = eigvals[1].real\n",
    "lambdaM"
   ]
  },
  {
   "cell_type": "code",
   "execution_count": 12,
   "metadata": {
    "ExecuteTime": {
     "end_time": "2020-09-24T14:36:47.408532Z",
     "start_time": "2020-09-24T14:36:47.402121Z"
    }
   },
   "outputs": [
    {
     "data": {
      "text/plain": [
       "array([4.47213595, 2.23606798])"
      ]
     },
     "execution_count": 12,
     "metadata": {},
     "output_type": "execute_result"
    }
   ],
   "source": [
    "# multiply the input matrix with the eigenvector selected\n",
    "np.dot(M, u)"
   ]
  },
  {
   "cell_type": "markdown",
   "metadata": {},
   "source": [
    "We see that the result of multiplying the input matrix with the eigenvector and the eigenvalue with the eigenvector are the same. So $Au = \\lambda u$."
   ]
  },
  {
   "cell_type": "code",
   "execution_count": 13,
   "metadata": {
    "ExecuteTime": {
     "end_time": "2020-09-24T14:36:47.416343Z",
     "start_time": "2020-09-24T14:36:47.410621Z"
    }
   },
   "outputs": [
    {
     "data": {
      "text/plain": [
       "array([4.47213595, 2.23606798])"
      ]
     },
     "execution_count": 13,
     "metadata": {},
     "output_type": "execute_result"
    }
   ],
   "source": [
    "# multiply same eigenvector by its corresponding eigenvalue\n",
    "lambdaM*u"
   ]
  },
  {
   "cell_type": "markdown",
   "metadata": {},
   "source": [
    "### Function to calculate the eigenvalues and vectors and display them nicely"
   ]
  },
  {
   "cell_type": "code",
   "execution_count": 14,
   "metadata": {
    "ExecuteTime": {
     "end_time": "2020-09-24T14:36:47.424106Z",
     "start_time": "2020-09-24T14:36:47.418937Z"
    }
   },
   "outputs": [],
   "source": [
    "# helper function\n",
    "def isSquareMatrix(matrix):\n",
    "    \"\"\"\n",
    "    checks is a matrix is square (length of all rows must equal the number of rows)\n",
    "    \"\"\"\n",
    "    return matrix.shape[0] == matrix.shape[1]"
   ]
  },
  {
   "cell_type": "code",
   "execution_count": 15,
   "metadata": {
    "ExecuteTime": {
     "end_time": "2020-09-24T14:36:47.431665Z",
     "start_time": "2020-09-24T14:36:47.426931Z"
    }
   },
   "outputs": [],
   "source": [
    "# helper function\n",
    "def characteristic_polynomial(matrix):\n",
    "    \"\"\"\n",
    "    display the characteristic polynomial of a matrix\n",
    "    \"\"\"\n",
    "    \n",
    "    m = Matrix(matrix)\n",
    "    \n",
    "    return m.charpoly()"
   ]
  },
  {
   "cell_type": "code",
   "execution_count": 16,
   "metadata": {
    "ExecuteTime": {
     "end_time": "2020-09-24T14:36:47.442257Z",
     "start_time": "2020-09-24T14:36:47.434490Z"
    }
   },
   "outputs": [],
   "source": [
    "def solve_sympy(matrix):\n",
    "    \"\"\"\n",
    "    matrix: a numpy array in a square shape\n",
    "    \"\"\"\n",
    "    \n",
    "    # for sympy calculations, transform the array into a Matrix object\n",
    "    m = Matrix(matrix)\n",
    "    print(m)\n",
    "    \n",
    "    # check that the matrix is square\n",
    "    if isSquareMatrix(matrix):\n",
    "        \n",
    "        # calculate the eigenvalues and eigenvectors using sympy\n",
    "        sympy_eigvals = m.eigenvals()\n",
    "        sympy_eigvect = m.eigenvects()\n",
    "        \n",
    "        # calculate the characteristic polynomical\n",
    "        char_poly = m.charpoly()\n",
    "        \n",
    "    # error for matrix input\n",
    "    else:\n",
    "        print(\"Your input matrix is not square or is empty.\")\n",
    "        \n",
    "    print(\"Eigenvalues:\")\n",
    "    for i in sympy_eigvals.items():\n",
    "        print(i[0])\n",
    "        \n",
    "    for i in sympy_eigvect:\n",
    "        print(\"Eigenvalue: \", i[0], \"\\nCorresponding eigenvector: \", i[2])\n",
    "    print(\"Characteristic polynomial: \", char_poly)\n",
    "    \n",
    "    # loop through the results and return the eigenvectors to plot\n",
    "    l = []\n",
    "    for i in range(len(sympy_eigvect)):\n",
    "        l.append(sympy_eigvect[i][2][0])\n",
    "        \n",
    "    to_plot = np.array(l).astype(np.float64).T\n",
    "        \n",
    "    #if len(sympy_eigvect) ==2:\n",
    "    #    p = sympy_eigvect[0][2][0], sympy_eigvect[1][2][0]\n",
    "    #    to_plot = np.array(p).astype(np.float64).T\n",
    "    #else:\n",
    "    #    p = sympy_eigvect[0][2][0]\n",
    "    #    to_plot = np.array(p).astype(np.float64).T\n",
    "    \n",
    "    return sympy_eigvect, char_poly, to_plot"
   ]
  },
  {
   "cell_type": "code",
   "execution_count": 17,
   "metadata": {
    "ExecuteTime": {
     "end_time": "2020-09-24T14:36:47.451053Z",
     "start_time": "2020-09-24T14:36:47.445466Z"
    }
   },
   "outputs": [],
   "source": [
    "def solve_scipy(matrix):\n",
    "    \"\"\"\n",
    "    matrix: a numpy array in a square shape\n",
    "    \"\"\"\n",
    "    \n",
    "    # check that the matrix is square\n",
    "    if isSquareMatrix(matrix):\n",
    "        \n",
    "        # calculate the eigenvalues and eigenvectors - using scipy\n",
    "        eigvals, eigvecs = la.eig(matrix)\n",
    "        \n",
    "    # error for matrix input\n",
    "    else:\n",
    "        print(\"Your input matrix is not square or is empty.\")\n",
    "        \n",
    "    print(\"The eigenvalues are: \", eigvals.real, \"\\nThe eigenvectors are: \\n\", eigvecs)\n",
    "    return eigvals, eigvecs"
   ]
  },
  {
   "cell_type": "code",
   "execution_count": 18,
   "metadata": {
    "ExecuteTime": {
     "end_time": "2020-09-24T14:36:47.472600Z",
     "start_time": "2020-09-24T14:36:47.454009Z"
    }
   },
   "outputs": [],
   "source": [
    "def plot_vectors(original, eigen):\n",
    "    \"\"\"\n",
    "    Create an overaly of the vectors in 2D space.\n",
    "    original -> given matrix\n",
    "    eigen -> calculated eigen vectors\n",
    "    \"\"\"\n",
    "    \n",
    "    # set the values in this order: 1st row for x, 2nd row for y\n",
    "    #for origin\n",
    "    X = np.array((0)) \n",
    "    Y = np.array((0))\n",
    "    \n",
    "    # for axes\n",
    "    U = original[0,:]\n",
    "    V = original[1,:]\n",
    "    U1 = eigen[0,:]\n",
    "    V1 = eigen[1,:]\n",
    "    \n",
    "    # check the limits for x and y axes and add 1\n",
    "    # this can be condensed into a one liner if you want to make it square - here only for display purposes\n",
    "    xlimit = max(np.amax(abs(U))+1, np.amax(abs(U1))+1)\n",
    "    ylimit = max(np.amax(abs(V))+1, np.amax(abs(V1))+1)\n",
    "    \n",
    "    # choose the bigger number between x and y limits to have a square graph\n",
    "    lim = xlimit if xlimit > ylimit else ylimit\n",
    "     \n",
    "    # set figure size\n",
    "    fig, ax = plt.subplots(figsize=(20,10))#(1, 2, sharex=True, sharey=True, figsize=(20, 10))\n",
    "    \n",
    "    # IMPORTANT FOR ASPECT RATIO\n",
    "    ax.set_aspect('equal')\n",
    "    \n",
    "    #ax[0]\n",
    "    # plot the vectors\n",
    "    plt.quiver(X, Y, U, V, \n",
    "                   color =[\"r\", \"black\"],\n",
    "                   units='xy', scale=1, width = 0.03, alpha=0.7)\n",
    "    #ax[1]\n",
    "    plt.quiver(X, Y, U1, V1, \n",
    "                   color =[\"green\", \"orange\"],\n",
    "                   units='xy', scale=1, headlength=5.5, width=0.05, alpha=0.7)\n",
    "    \n",
    "    # set the x,y limits automatically and limit them at 1 interval ticks\n",
    "    plt.xlim(-lim, lim)\n",
    "    plt.ylim(-lim, lim)\n",
    "    plt.xticks(np.arange(-lim, lim, step=1)) \n",
    "    plt.yticks(np.arange(-lim, lim, step=1))\n",
    "    #ax[0]\n",
    "    \n",
    "    # annotate the vectors\n",
    "    plt.annotate(\"v1\", xy = (original[0,:][0], original[1,:][0]),\n",
    "                 color = \"red\", weight = \"semibold\", size = 12)\n",
    "  #ax[0]\n",
    "    plt.annotate(\"v2\", xy = (original[0,:][1], original[1,:][1]), \n",
    "                 color = \"black\", weight = \"semibold\", size =12)\n",
    "  #ax[1]\n",
    "    if len(eigen[0])>1:\n",
    "        plt.annotate(\"eigen_v1\", xy = ((eigen[0,:][0]), (eigen[1,:][0])-0.5),\n",
    "                     color = \"green\", weight = \"bold\", size = 13)\n",
    "      #ax[1]\n",
    "        plt.annotate(\"eigen_v2\", xy = (eigen[0,:][1], eigen[1,:][1]), \n",
    "                     color = \"orange\", weight = \"bold\", size =13)\n",
    "    else:\n",
    "        plt.annotate(\"eigen_v1\", xy = ((eigen[0,:][0]), (eigen[1,:][0])-0.5),\n",
    "                     color = \"green\", weight = \"bold\", size = 13)\n",
    "    plt.show()"
   ]
  },
  {
   "cell_type": "markdown",
   "metadata": {},
   "source": [
    "## COURSERA QUIZ"
   ]
  },
  {
   "cell_type": "markdown",
   "metadata": {},
   "source": [
    "1. **For the matrix A = [[1,0],[0,2]], what is the caracteristic polynomical and the solutions to it?**"
   ]
  },
  {
   "cell_type": "code",
   "execution_count": 19,
   "metadata": {
    "ExecuteTime": {
     "end_time": "2020-09-24T14:36:47.709535Z",
     "start_time": "2020-09-24T14:36:47.481783Z"
    }
   },
   "outputs": [
    {
     "name": "stdout",
     "output_type": "stream",
     "text": [
      "Matrix([[1, 0], [0, 2]])\n",
      "Eigenvalues:\n",
      "1\n",
      "2\n",
      "Eigenvalue:  1 \n",
      "Corresponding eigenvector:  [Matrix([\n",
      "[1],\n",
      "[0]])]\n",
      "Eigenvalue:  2 \n",
      "Corresponding eigenvector:  [Matrix([\n",
      "[0],\n",
      "[1]])]\n",
      "Characteristic polynomial:  PurePoly(lambda**2 - 3*lambda + 2, lambda, domain='ZZ')\n"
     ]
    },
    {
     "data": {
      "image/png": "[encoded data removed]",
      "text/plain": [
       "<Figure size 1440x720 with 1 Axes>"
      ]
     },
     "metadata": {
      "needs_background": "light"
     },
     "output_type": "display_data"
    }
   ],
   "source": [
    "A = Matrix(2,2, (1, 0, 0, 2))\n",
    "A1 = np.array([[1,0], [0, 2]])\n",
    "\n",
    "eveca, epa, to_plota = solve_sympy(A1)\n",
    "\n",
    "plot_vectors(A1, to_plota)"
   ]
  },
  {
   "cell_type": "markdown",
   "metadata": {},
   "source": [
    "### 3. For the matrix A = [[3,4], [0,5]], what is the characteristic polynomial and the solutions to it?"
   ]
  },
  {
   "cell_type": "code",
   "execution_count": 20,
   "metadata": {
    "ExecuteTime": {
     "end_time": "2020-09-24T14:36:47.947364Z",
     "start_time": "2020-09-24T14:36:47.712308Z"
    }
   },
   "outputs": [
    {
     "name": "stdout",
     "output_type": "stream",
     "text": [
      "Matrix([[3, 4], [0, 5]])\n",
      "Eigenvalues:\n",
      "3\n",
      "5\n",
      "Eigenvalue:  3 \n",
      "Corresponding eigenvector:  [Matrix([\n",
      "[1],\n",
      "[0]])]\n",
      "Eigenvalue:  5 \n",
      "Corresponding eigenvector:  [Matrix([\n",
      "[2],\n",
      "[1]])]\n",
      "Characteristic polynomial:  PurePoly(lambda**2 - 8*lambda + 15, lambda, domain='ZZ')\n"
     ]
    },
    {
     "data": {
      "image/png": "[encoded data removed]",
      "text/plain": [
       "<Figure size 1440x720 with 1 Axes>"
      ]
     },
     "metadata": {
      "needs_background": "light"
     },
     "output_type": "display_data"
    }
   ],
   "source": [
    "B1 = np.array([[3,4], [0,5]])\n",
    "\n",
    "evecb1, epb1, to_plotb1 = solve_sympy(B1)\n",
    "\n",
    "plot_vectors(B1, to_plotb1)"
   ]
  },
  {
   "cell_type": "markdown",
   "metadata": {},
   "source": [
    "### For matrix A = [[1,0], [-1,4]] what is the charatceristic polynomial and the solutions?"
   ]
  },
  {
   "cell_type": "code",
   "execution_count": 21,
   "metadata": {
    "ExecuteTime": {
     "end_time": "2020-09-24T14:36:48.154635Z",
     "start_time": "2020-09-24T14:36:47.950561Z"
    }
   },
   "outputs": [
    {
     "name": "stdout",
     "output_type": "stream",
     "text": [
      "Matrix([[1, 0], [-1, 4]])\n",
      "Eigenvalues:\n",
      "1\n",
      "4\n",
      "Eigenvalue:  1 \n",
      "Corresponding eigenvector:  [Matrix([\n",
      "[3],\n",
      "[1]])]\n",
      "Eigenvalue:  4 \n",
      "Corresponding eigenvector:  [Matrix([\n",
      "[0],\n",
      "[1]])]\n",
      "Characteristic polynomial:  PurePoly(lambda**2 - 5*lambda + 4, lambda, domain='ZZ')\n"
     ]
    },
    {
     "data": {
      "image/png": "[encoded data removed]",
      "text/plain": [
       "<Figure size 1440x720 with 1 Axes>"
      ]
     },
     "metadata": {
      "needs_background": "light"
     },
     "output_type": "display_data"
    }
   ],
   "source": [
    "C1 = np.array([[1,0], [-1,4]])\n",
    "\n",
    "evec_c1, ep_c1, to_plot_c1 = solve_sympy(C1)\n",
    "\n",
    "plot_vectors(C1, to_plot_c1)"
   ]
  },
  {
   "cell_type": "code",
   "execution_count": 22,
   "metadata": {
    "ExecuteTime": {
     "end_time": "2020-09-24T14:36:48.164329Z",
     "start_time": "2020-09-24T14:36:48.157901Z"
    }
   },
   "outputs": [
    {
     "data": {
      "text/plain": [
       "array([[3., 0.],\n",
       "       [1., 1.]])"
      ]
     },
     "execution_count": 22,
     "metadata": {},
     "output_type": "execute_result"
    }
   ],
   "source": [
    "to_plot_c1"
   ]
  },
  {
   "cell_type": "markdown",
   "metadata": {},
   "source": [
    "### For matrix A = [[-3, 8], [2, 3]] what is the characteristic polynomical and the solutions?"
   ]
  },
  {
   "cell_type": "code",
   "execution_count": 23,
   "metadata": {
    "ExecuteTime": {
     "end_time": "2020-09-24T14:36:48.431866Z",
     "start_time": "2020-09-24T14:36:48.172424Z"
    }
   },
   "outputs": [
    {
     "name": "stdout",
     "output_type": "stream",
     "text": [
      "Matrix([[-3, 8], [2, 3]])\n",
      "Eigenvalues:\n",
      "-5\n",
      "5\n",
      "Eigenvalue:  -5 \n",
      "Corresponding eigenvector:  [Matrix([\n",
      "[-4],\n",
      "[ 1]])]\n",
      "Eigenvalue:  5 \n",
      "Corresponding eigenvector:  [Matrix([\n",
      "[1],\n",
      "[1]])]\n",
      "Characteristic polynomial:  PurePoly(lambda**2 - 25, lambda, domain='ZZ')\n"
     ]
    },
    {
     "data": {
      "image/png": "[encoded data removed]",
      "text/plain": [
       "<Figure size 1440x720 with 1 Axes>"
      ]
     },
     "metadata": {
      "needs_background": "light"
     },
     "output_type": "display_data"
    }
   ],
   "source": [
    "D1 = np.array([[-3, 8], [2, 3]])\n",
    "\n",
    "evec_d1, ep_d1, to_plot_d1 = solve_sympy(D1)\n",
    "\n",
    "plot_vectors(D1, to_plot_d1)"
   ]
  },
  {
   "cell_type": "markdown",
   "metadata": {},
   "source": [
    "### For the matrix A = [[1,0], [-1,4]] what is the characteristic polynomial and the solutions?"
   ]
  },
  {
   "cell_type": "code",
   "execution_count": 24,
   "metadata": {
    "ExecuteTime": {
     "end_time": "2020-09-24T14:36:48.633217Z",
     "start_time": "2020-09-24T14:36:48.437493Z"
    }
   },
   "outputs": [
    {
     "name": "stdout",
     "output_type": "stream",
     "text": [
      "Matrix([[1, 0], [-1, 4]])\n",
      "Eigenvalues:\n",
      "1\n",
      "4\n",
      "Eigenvalue:  1 \n",
      "Corresponding eigenvector:  [Matrix([\n",
      "[3],\n",
      "[1]])]\n",
      "Eigenvalue:  4 \n",
      "Corresponding eigenvector:  [Matrix([\n",
      "[0],\n",
      "[1]])]\n",
      "Characteristic polynomial:  PurePoly(lambda**2 - 5*lambda + 4, lambda, domain='ZZ')\n"
     ]
    },
    {
     "data": {
      "image/png": "[encoded data removed]",
      "text/plain": [
       "<Figure size 1440x720 with 1 Axes>"
      ]
     },
     "metadata": {
      "needs_background": "light"
     },
     "output_type": "display_data"
    }
   ],
   "source": [
    "E1 = np.array([[ 1, 0], [-1, 4]])\n",
    "\n",
    "evec_E1, ep_E1, to_plot_e1 = solve_sympy(E1)\n",
    "\n",
    "plot_vectors(E1, to_plot_e1)"
   ]
  },
  {
   "cell_type": "code",
   "execution_count": 25,
   "metadata": {
    "ExecuteTime": {
     "end_time": "2020-09-24T14:36:48.834331Z",
     "start_time": "2020-09-24T14:36:48.635770Z"
    }
   },
   "outputs": [
    {
     "name": "stdout",
     "output_type": "stream",
     "text": [
      "Matrix([[5, 4], [-4, -3]])\n",
      "Eigenvalues:\n",
      "1\n",
      "Eigenvalue:  1 \n",
      "Corresponding eigenvector:  [Matrix([\n",
      "[-1],\n",
      "[ 1]])]\n",
      "Characteristic polynomial:  PurePoly(lambda**2 - 2*lambda + 1, lambda, domain='ZZ')\n"
     ]
    },
    {
     "data": {
      "image/png": "[encoded data removed]",
      "text/plain": [
       "<Figure size 1440x720 with 1 Axes>"
      ]
     },
     "metadata": {
      "needs_background": "light"
     },
     "output_type": "display_data"
    }
   ],
   "source": [
    "F = np.array([[5, 4], [ -4, -3]])\n",
    "evec_F, ep_F, to_plot_f = solve_sympy(F)\n",
    "\n",
    "plot_vectors(F, to_plot_f)"
   ]
  },
  {
   "cell_type": "code",
   "execution_count": 26,
   "metadata": {
    "ExecuteTime": {
     "end_time": "2020-09-24T14:36:49.239197Z",
     "start_time": "2020-09-24T14:36:48.836772Z"
    }
   },
   "outputs": [
    {
     "name": "stdout",
     "output_type": "stream",
     "text": [
      "Matrix([[-2, -3], [1, 1]])\n",
      "Eigenvalues:\n",
      "-1/2 - sqrt(3)*I/2\n",
      "-1/2 + sqrt(3)*I/2\n",
      "Eigenvalue:  -1/2 - sqrt(3)*I/2 \n",
      "Corresponding eigenvector:  [Matrix([\n",
      "[3/(-3/2 + sqrt(3)*I/2)],\n",
      "[                     1]])]\n",
      "Eigenvalue:  -1/2 + sqrt(3)*I/2 \n",
      "Corresponding eigenvector:  [Matrix([\n",
      "[3/(-3/2 - sqrt(3)*I/2)],\n",
      "[                     1]])]\n",
      "Characteristic polynomial:  PurePoly(lambda**2 + lambda + 1, lambda, domain='ZZ')\n"
     ]
    },
    {
     "ename": "TypeError",
     "evalue": "can't convert complex to float",
     "output_type": "error",
     "traceback": [
      "\u001b[0;31m---------------------------------------------------------------------------\u001b[0m",
      "\u001b[0;31mTypeError\u001b[0m                                 Traceback (most recent call last)",
      "\u001b[0;32m<ipython-input-26-1d4f57105571>\u001b[0m in \u001b[0;36m<module>\u001b[0;34m\u001b[0m\n\u001b[1;32m      1\u001b[0m \u001b[0mG\u001b[0m \u001b[0;34m=\u001b[0m \u001b[0mnp\u001b[0m\u001b[0;34m.\u001b[0m\u001b[0marray\u001b[0m\u001b[0;34m(\u001b[0m\u001b[0;34m[\u001b[0m\u001b[0;34m[\u001b[0m\u001b[0;34m-\u001b[0m\u001b[0;36m2\u001b[0m\u001b[0;34m,\u001b[0m \u001b[0;34m-\u001b[0m\u001b[0;36m3\u001b[0m\u001b[0;34m]\u001b[0m\u001b[0;34m,\u001b[0m \u001b[0;34m[\u001b[0m\u001b[0;36m1\u001b[0m\u001b[0;34m,\u001b[0m\u001b[0;36m1\u001b[0m\u001b[0;34m]\u001b[0m\u001b[0;34m]\u001b[0m\u001b[0;34m)\u001b[0m\u001b[0;34m\u001b[0m\u001b[0;34m\u001b[0m\u001b[0m\n\u001b[0;32m----> 2\u001b[0;31m \u001b[0mevec_G\u001b[0m\u001b[0;34m,\u001b[0m \u001b[0mep_G\u001b[0m\u001b[0;34m,\u001b[0m \u001b[0mto_plot_g\u001b[0m \u001b[0;34m=\u001b[0m \u001b[0msolve_sympy\u001b[0m\u001b[0;34m(\u001b[0m\u001b[0mG\u001b[0m\u001b[0;34m)\u001b[0m\u001b[0;34m\u001b[0m\u001b[0;34m\u001b[0m\u001b[0m\n\u001b[0m",
      "\u001b[0;32m<ipython-input-16-c79bc0c25fa9>\u001b[0m in \u001b[0;36msolve_sympy\u001b[0;34m(matrix)\u001b[0m\n\u001b[1;32m     35\u001b[0m         \u001b[0ml\u001b[0m\u001b[0;34m.\u001b[0m\u001b[0mappend\u001b[0m\u001b[0;34m(\u001b[0m\u001b[0msympy_eigvect\u001b[0m\u001b[0;34m[\u001b[0m\u001b[0mi\u001b[0m\u001b[0;34m]\u001b[0m\u001b[0;34m[\u001b[0m\u001b[0;36m2\u001b[0m\u001b[0;34m]\u001b[0m\u001b[0;34m[\u001b[0m\u001b[0;36m0\u001b[0m\u001b[0;34m]\u001b[0m\u001b[0;34m)\u001b[0m\u001b[0;34m\u001b[0m\u001b[0;34m\u001b[0m\u001b[0m\n\u001b[1;32m     36\u001b[0m \u001b[0;34m\u001b[0m\u001b[0m\n\u001b[0;32m---> 37\u001b[0;31m     \u001b[0mto_plot\u001b[0m \u001b[0;34m=\u001b[0m \u001b[0mnp\u001b[0m\u001b[0;34m.\u001b[0m\u001b[0marray\u001b[0m\u001b[0;34m(\u001b[0m\u001b[0ml\u001b[0m\u001b[0;34m)\u001b[0m\u001b[0;34m.\u001b[0m\u001b[0mastype\u001b[0m\u001b[0;34m(\u001b[0m\u001b[0mnp\u001b[0m\u001b[0;34m.\u001b[0m\u001b[0mfloat64\u001b[0m\u001b[0;34m)\u001b[0m\u001b[0;34m.\u001b[0m\u001b[0mT\u001b[0m\u001b[0;34m\u001b[0m\u001b[0;34m\u001b[0m\u001b[0m\n\u001b[0m\u001b[1;32m     38\u001b[0m \u001b[0;34m\u001b[0m\u001b[0m\n\u001b[1;32m     39\u001b[0m     \u001b[0;31m#if len(sympy_eigvect) ==2:\u001b[0m\u001b[0;34m\u001b[0m\u001b[0;34m\u001b[0m\u001b[0;34m\u001b[0m\u001b[0m\n",
      "\u001b[0;32m/opt/anaconda3/lib/python3.7/site-packages/sympy/core/expr.py\u001b[0m in \u001b[0;36m__float__\u001b[0;34m(self)\u001b[0m\n\u001b[1;32m    277\u001b[0m             \u001b[0;32mreturn\u001b[0m \u001b[0mfloat\u001b[0m\u001b[0;34m(\u001b[0m\u001b[0mresult\u001b[0m\u001b[0;34m)\u001b[0m\u001b[0;34m\u001b[0m\u001b[0;34m\u001b[0m\u001b[0m\n\u001b[1;32m    278\u001b[0m         \u001b[0;32mif\u001b[0m \u001b[0mresult\u001b[0m\u001b[0;34m.\u001b[0m\u001b[0mis_number\u001b[0m \u001b[0;32mand\u001b[0m \u001b[0mresult\u001b[0m\u001b[0;34m.\u001b[0m\u001b[0mas_real_imag\u001b[0m\u001b[0;34m(\u001b[0m\u001b[0;34m)\u001b[0m\u001b[0;34m[\u001b[0m\u001b[0;36m1\u001b[0m\u001b[0;34m]\u001b[0m\u001b[0;34m:\u001b[0m\u001b[0;34m\u001b[0m\u001b[0;34m\u001b[0m\u001b[0m\n\u001b[0;32m--> 279\u001b[0;31m             \u001b[0;32mraise\u001b[0m \u001b[0mTypeError\u001b[0m\u001b[0;34m(\u001b[0m\u001b[0;34m\"can't convert complex to float\"\u001b[0m\u001b[0;34m)\u001b[0m\u001b[0;34m\u001b[0m\u001b[0;34m\u001b[0m\u001b[0m\n\u001b[0m\u001b[1;32m    280\u001b[0m         \u001b[0;32mraise\u001b[0m \u001b[0mTypeError\u001b[0m\u001b[0;34m(\u001b[0m\u001b[0;34m\"can't convert expression to float\"\u001b[0m\u001b[0;34m)\u001b[0m\u001b[0;34m\u001b[0m\u001b[0;34m\u001b[0m\u001b[0m\n\u001b[1;32m    281\u001b[0m \u001b[0;34m\u001b[0m\u001b[0m\n",
      "\u001b[0;31mTypeError\u001b[0m: can't convert complex to float"
     ]
    }
   ],
   "source": [
    "G = np.array([[-2, -3], [1,1]])\n",
    "evec_G, ep_G, to_plot_g = solve_sympy(G)"
   ]
  }
 ],
 "metadata": {
  "gist": {
   "data": {
    "description": "Eigenvalues_eigenvectors.ipynb",
    "public": false
   },
   "id": ""
  },
  "kernelspec": {
   "display_name": "Python 3",
   "language": "python",
   "name": "python3"
  },
  "language_info": {
   "codemirror_mode": {
    "name": "ipython",
    "version": 3
   },
   "file_extension": ".py",
   "mimetype": "text/x-python",
   "name": "python",
   "nbconvert_exporter": "python",
   "pygments_lexer": "ipython3",
   "version": "3.7.4"
  },
  "toc": {
   "base_numbering": 1,
   "nav_menu": {},
   "number_sections": true,
   "sideBar": true,
   "skip_h1_title": false,
   "title_cell": "Table of Contents",
   "title_sidebar": "Contents",
   "toc_cell": false,
   "toc_position": {},
   "toc_section_display": true,
   "toc_window_display": false
  },
  "varInspector": {
   "cols": {
    "lenName": 16,
    "lenType": 16,
    "lenVar": 40
   },
   "kernels_config": {
    "python": {
     "delete_cmd_postfix": "",
     "delete_cmd_prefix": "del ",
     "library": "var_list.py",
     "varRefreshCmd": "print(var_dic_list())"
    },
    "r": {
     "delete_cmd_postfix": ") ",
     "delete_cmd_prefix": "rm(",
     "library": "var_list.r",
     "varRefreshCmd": "cat(var_dic_list()) "
    }
   },
   "types_to_exclude": [
    "module",
    "function",
    "builtin_function_or_method",
    "instance",
    "_Feature"
   ],
   "window_display": false
  }
 },
 "nbformat": 4,
 "nbformat_minor": 2
}
