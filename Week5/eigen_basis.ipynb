{
 "cells": [
  {
   "cell_type": "markdown",
   "metadata": {},
   "source": [
    "### Changing vectors to the eigenbasis\n",
    "\n",
    "**Motivation**: when applying a matrix transformation T to one vector (t) many times over and over (linear transformation - same transformation occurs each time), we need to multiply $\\vec{t}_1$ with T, then  $\\vec{t}_2$ with T and so on.\n",
    "$$ \\vec{t}_1 = \\vec{t}_0 * T$$\n",
    "$$ \\vec{t}_2 = \\vec{t}_1 * T$$\n",
    "==> $\\vec{t}_2 = \\vec{t}_0*T^2$\n",
    "\n",
    "An easier way to do this would be to have all the terms of the matrix = 0 **except** for the leading diagonal. When raising to a power, a diagonal matrix makes things a lot easier as each of the terms of the diagonal needs to be raised to the power of the number of times we are multiplying T with itself.\n",
    "\n",
    "$T^n = \\begin{bmatrix}a^n & \\dots & 0\\\\  \\vdots & \\ddots & \\vdots & \\\\ 0 & \\dots & d^n\\end{bmatrix}$\n",
    "\n",
    "**EIGENBASIS** = change a matrix so it becomes with a leading diagonal and 0 in the rest\n",
    "\n",
    "If T is **not a diagonal matrix** change it with eigen-analysis so that T becomes diagonal. Then we can apply the power of n and transform the resulting matrix back again. \n",
    "\n",
    "!! Each column of our new transformation matrix represents the new location of the transformed unit vectors. So to build an eigen-bais conversion matrix, we plug in the eignvectos as columns:\n",
    "$$ C = \\begin{bmatrix}eigenvector_1 & \\dots & eigenvector_n\\\\  \\vdots & \\vdots & \\vdots \\end{bmatrix}$$\n",
    "\n",
    "Matrix D, contains the corresponding **eigenvalues** of the matrix T:\n",
    "$$ D = \\begin{bmatrix}eigenvvalue_1 & \\dots & 0\\\\  0 & eigenvalue_2 & \\dots \\\\ \\vdots & \\ddots & \\vdots & \\\\ 0 & \\dots & eigenvalue_3 \\end{bmatrix}$$\n",
    "\n",
    "Applying the transformation T, is just the same as converting to our eigenbasis, applying the diagonalized matrix and then converting back again. \n",
    "$$ T = CDC^-1$$\n",
    "$$ T^2 = CDC^-1CDC^-1$$\n",
    "$$ T^n = Cd^2C^-1 $$"
   ]
  },
  {
   "cell_type": "markdown",
   "metadata": {},
   "source": [
    "#### Example (long way)\n",
    "Transformation matrix T = [[1, 1], [0,2]]. To v1 = [1, 1] and v2 = [-1, 1]\n",
    "- first column of T is [1,0] so that means that $\\hat{i}$ will be unchanged\n",
    "- second column of T is [0, 2], which means that $\\hat{j}$will be moving to coordinates 0,2\n",
    "- v1 will move at $T.v1$\n",
    "- v2 will move at $T.v2$\n"
   ]
  },
  {
   "cell_type": "code",
   "execution_count": 6,
   "metadata": {
    "ExecuteTime": {
     "end_time": "2020-09-25T14:08:19.719540Z",
     "start_time": "2020-09-25T14:08:19.710995Z"
    }
   },
   "outputs": [],
   "source": [
    "import numpy as np\n",
    "from numpy import linalg as la"
   ]
  },
  {
   "cell_type": "markdown",
   "metadata": {},
   "source": [
    "Instantiate the arrays"
   ]
  },
  {
   "cell_type": "code",
   "execution_count": 7,
   "metadata": {
    "ExecuteTime": {
     "end_time": "2020-09-25T14:08:19.736080Z",
     "start_time": "2020-09-25T14:08:19.724000Z"
    }
   },
   "outputs": [],
   "source": [
    "T = np.array([[1, 1], [0,2]])\n",
    "v1 = np.array([[1], [1]])\n",
    "v2 = np.array([[-1], [1]])"
   ]
  },
  {
   "cell_type": "markdown",
   "metadata": {
    "ExecuteTime": {
     "end_time": "2020-09-25T12:08:23.978970Z",
     "start_time": "2020-09-25T12:08:23.932351Z"
    }
   },
   "source": [
    "Multiply matrix T with vector v1"
   ]
  },
  {
   "cell_type": "code",
   "execution_count": 8,
   "metadata": {
    "ExecuteTime": {
     "end_time": "2020-09-25T14:08:19.766170Z",
     "start_time": "2020-09-25T14:08:19.741351Z"
    }
   },
   "outputs": [
    {
     "data": {
      "text/plain": [
       "array([[2],\n",
       "       [2]])"
      ]
     },
     "execution_count": 8,
     "metadata": {},
     "output_type": "execute_result"
    }
   ],
   "source": [
    "# T.v1\n",
    "tv1 = np.dot(T, v1)\n",
    "tv1"
   ]
  },
  {
   "cell_type": "markdown",
   "metadata": {},
   "source": [
    "Multiply matrix T with vector v2"
   ]
  },
  {
   "cell_type": "code",
   "execution_count": 9,
   "metadata": {
    "ExecuteTime": {
     "end_time": "2020-09-25T14:08:19.779477Z",
     "start_time": "2020-09-25T14:08:19.769822Z"
    }
   },
   "outputs": [
    {
     "data": {
      "text/plain": [
       "array([[0],\n",
       "       [2]])"
      ]
     },
     "execution_count": 9,
     "metadata": {},
     "output_type": "execute_result"
    }
   ],
   "source": [
    "# t . v2\n",
    "tv2 = np.dot(T, v2)\n",
    "tv2"
   ]
  },
  {
   "cell_type": "markdown",
   "metadata": {},
   "source": []
  },
  {
   "cell_type": "code",
   "execution_count": 10,
   "metadata": {
    "ExecuteTime": {
     "end_time": "2020-09-25T14:08:19.790048Z",
     "start_time": "2020-09-25T14:08:19.784136Z"
    }
   },
   "outputs": [
    {
     "data": {
      "text/plain": [
       "array([[2],\n",
       "       [4]])"
      ]
     },
     "execution_count": 10,
     "metadata": {},
     "output_type": "execute_result"
    }
   ],
   "source": [
    "# apply T again to the transformed vector v2\n",
    "np.dot(T, tv2)"
   ]
  },
  {
   "cell_type": "markdown",
   "metadata": {},
   "source": [
    "If we start by thinking about the number of transformations, in this case 2, we start with multiplying T with itself ($T^2$)"
   ]
  },
  {
   "cell_type": "code",
   "execution_count": 11,
   "metadata": {
    "ExecuteTime": {
     "end_time": "2020-09-25T14:08:19.807367Z",
     "start_time": "2020-09-25T14:08:19.799246Z"
    }
   },
   "outputs": [
    {
     "data": {
      "text/plain": [
       "array([[1, 3],\n",
       "       [0, 4]])"
      ]
     },
     "execution_count": 11,
     "metadata": {},
     "output_type": "execute_result"
    }
   ],
   "source": [
    "# T squared\n",
    "tsq = np.dot(T, T)\n",
    "tsq"
   ]
  },
  {
   "cell_type": "markdown",
   "metadata": {},
   "source": [
    "By multiplying $T^2$ with the original vector v2, we should get the same result as multiplying v2 with T and then the results of that again with T."
   ]
  },
  {
   "cell_type": "code",
   "execution_count": 12,
   "metadata": {
    "ExecuteTime": {
     "end_time": "2020-09-25T14:08:19.830162Z",
     "start_time": "2020-09-25T14:08:19.812015Z"
    }
   },
   "outputs": [
    {
     "data": {
      "text/plain": [
       "array([[2],\n",
       "       [4]])"
      ]
     },
     "execution_count": 12,
     "metadata": {},
     "output_type": "execute_result"
    }
   ],
   "source": [
    "# T squared multiplied with v2\n",
    "np.dot(tsq, v2)"
   ]
  },
  {
   "cell_type": "markdown",
   "metadata": {},
   "source": [
    "#### Same example, using the eigenbasis approach:\n",
    "1. Find the eigenvectors\n",
    "2. Build the conversion matrix C\n",
    "3. Find the inverse of $C$ $Cinv = C^-1$\n",
    "4. Construct matrix D with the eigenvalues\n",
    "5. Apply the formula: $ T^n = CD^2C^-1 $"
   ]
  },
  {
   "cell_type": "markdown",
   "metadata": {},
   "source": [
    "Calculate the eigenvalues and vectors using numpy"
   ]
  },
  {
   "cell_type": "code",
   "execution_count": 13,
   "metadata": {
    "ExecuteTime": {
     "end_time": "2020-09-25T14:08:19.853648Z",
     "start_time": "2020-09-25T14:08:19.846044Z"
    }
   },
   "outputs": [],
   "source": [
    "def fill_diagonal(diagonal):\n",
    "    source_array = np.zeros((len(diagonal), len(diagonal)), np.float64)\n",
    "    copy = source_array.copy()\n",
    "    np.fill_diagonal(copy, diagonal)\n",
    "    return copy"
   ]
  },
  {
   "cell_type": "code",
   "execution_count": 14,
   "metadata": {
    "ExecuteTime": {
     "end_time": "2020-09-25T14:08:19.889817Z",
     "start_time": "2020-09-25T14:08:19.880447Z"
    }
   },
   "outputs": [],
   "source": [
    "def compute_Tn(n, transf_matrix):\n",
    "\n",
    "    # C for the eigenvectors\n",
    "    eigval, C = la.eig(transf_matrix)\n",
    "\n",
    "    # Find the inverse of C\n",
    "    Cinv = la.inv(C)\n",
    "\n",
    "    # D is the eigenvalues on the diagonal\n",
    "    D = fill_diagonal(eigval)\n",
    "\n",
    "    # raise D to the power of n\n",
    "    Dn = D**n\n",
    "    \n",
    "    # apply the formula\n",
    "    Tn = la.multi_dot([C, Dn, Cinv])\n",
    "    \n",
    "    return Tn\n"
   ]
  },
  {
   "cell_type": "code",
   "execution_count": 15,
   "metadata": {
    "ExecuteTime": {
     "end_time": "2020-09-25T14:08:19.929542Z",
     "start_time": "2020-09-25T14:08:19.895256Z"
    }
   },
   "outputs": [
    {
     "data": {
      "text/plain": [
       "array([[1., 3.],\n",
       "       [0., 4.]])"
      ]
     },
     "execution_count": 15,
     "metadata": {},
     "output_type": "execute_result"
    }
   ],
   "source": [
    "compute_Tn(2, T)"
   ]
  },
  {
   "cell_type": "markdown",
   "metadata": {},
   "source": [
    "### Practice QUIZ"
   ]
  },
  {
   "cell_type": "markdown",
   "metadata": {},
   "source": [
    "#### Given matrix T and change of basis matrix C (whose columns are eigenvectors of T), calculate the diagonal matrix $D=C^-1TC)$"
   ]
  },
  {
   "cell_type": "code",
   "execution_count": 16,
   "metadata": {
    "ExecuteTime": {
     "end_time": "2020-09-25T14:08:19.965203Z",
     "start_time": "2020-09-25T14:08:19.937703Z"
    }
   },
   "outputs": [],
   "source": [
    "T = np.array([[6, -1], [2, 3]])\n",
    "C = np.array([[1,1], [1,2]])"
   ]
  },
  {
   "cell_type": "code",
   "execution_count": 17,
   "metadata": {
    "ExecuteTime": {
     "end_time": "2020-09-25T14:08:19.975391Z",
     "start_time": "2020-09-25T14:08:19.969458Z"
    }
   },
   "outputs": [],
   "source": [
    "def calculate_inverse(m):\n",
    "    return la.inv(m)\n",
    "\n",
    "def multi_dot_product(array_of_m):\n",
    "    return la.multi_dot(array_of_m)\n",
    "\n",
    "def calculate_d(c, t):\n",
    "    cinv = calculate_inverse(c)\n",
    "    return multi_dot_product([cinv, t, c])"
   ]
  },
  {
   "cell_type": "code",
   "execution_count": 18,
   "metadata": {
    "ExecuteTime": {
     "end_time": "2020-09-25T14:08:19.989570Z",
     "start_time": "2020-09-25T14:08:19.980935Z"
    }
   },
   "outputs": [
    {
     "data": {
      "text/plain": [
       "array([[5., 0.],\n",
       "       [0., 4.]])"
      ]
     },
     "execution_count": 18,
     "metadata": {},
     "output_type": "execute_result"
    }
   ],
   "source": [
    "calculate_d(C, T)"
   ]
  },
  {
   "cell_type": "markdown",
   "metadata": {},
   "source": [
    "#### Given the matrix T and change of basis matrix C, calculate the diagonal matrix D."
   ]
  },
  {
   "cell_type": "code",
   "execution_count": 19,
   "metadata": {
    "ExecuteTime": {
     "end_time": "2020-09-25T14:08:20.001925Z",
     "start_time": "2020-09-25T14:08:19.993899Z"
    }
   },
   "outputs": [
    {
     "data": {
      "text/plain": [
       "array([[-1.,  0.],\n",
       "       [ 0.,  2.]])"
      ]
     },
     "execution_count": 19,
     "metadata": {},
     "output_type": "execute_result"
    }
   ],
   "source": [
    "T2 = np.array([[2, 7], [0,-1]])\n",
    "C2 = np.array([[7,1], [-3,0]])\n",
    "calculate_d(C2, T2)"
   ]
  },
  {
   "cell_type": "markdown",
   "metadata": {},
   "source": [
    "#### Given matrix T and change of basis matrix C, calculate the diagonal matrix D."
   ]
  },
  {
   "cell_type": "code",
   "execution_count": 20,
   "metadata": {
    "ExecuteTime": {
     "end_time": "2020-09-25T14:08:20.015180Z",
     "start_time": "2020-09-25T14:08:20.004915Z"
    }
   },
   "outputs": [
    {
     "data": {
      "text/plain": [
       "array([[ 1.,  0.],\n",
       "       [ 0., -1.]])"
      ]
     },
     "execution_count": 20,
     "metadata": {},
     "output_type": "execute_result"
    }
   ],
   "source": [
    "T3 = np.array([[1, 0], [2,-1]])\n",
    "C3 = np.array([[1,0], [1,1]])\n",
    "calculate_d(C3, T3)"
   ]
  },
  {
   "cell_type": "markdown",
   "metadata": {},
   "source": [
    "#### Given a diagonal matrix D and change of basis matrix C with inverse C, calculate T."
   ]
  },
  {
   "cell_type": "code",
   "execution_count": 21,
   "metadata": {
    "ExecuteTime": {
     "end_time": "2020-09-25T14:08:20.028193Z",
     "start_time": "2020-09-25T14:08:20.018789Z"
    }
   },
   "outputs": [
    {
     "data": {
      "text/plain": [
       "array([[ 1, -1],\n",
       "       [ 1,  0]])"
      ]
     },
     "execution_count": 21,
     "metadata": {},
     "output_type": "execute_result"
    }
   ],
   "source": [
    "D4 = np.array(([1,0],[0,1]))\n",
    "C4 = np.array(((1,2),(0,1)))\n",
    "C4_inv = np.array(((1,-2),(0,1)))\n",
    "\n",
    "multi_dot_product([C, D4, C4_inv])"
   ]
  },
  {
   "cell_type": "markdown",
   "metadata": {},
   "source": [
    "#### Given T, calculate $T^3$"
   ]
  },
  {
   "cell_type": "code",
   "execution_count": 22,
   "metadata": {
    "ExecuteTime": {
     "end_time": "2020-09-25T14:08:20.038630Z",
     "start_time": "2020-09-25T14:08:20.031280Z"
    }
   },
   "outputs": [
    {
     "data": {
      "text/plain": [
       "array([[186, -61],\n",
       "       [122,   3]])"
      ]
     },
     "execution_count": 22,
     "metadata": {},
     "output_type": "execute_result"
    }
   ],
   "source": [
    "T = np.array( ((6, -1), (2,3)))\n",
    "T_pow3 = la.matrix_power(T, 3)\n",
    "T_pow3"
   ]
  },
  {
   "cell_type": "markdown",
   "metadata": {},
   "source": [
    "#### Given T, calculate $T^3$"
   ]
  },
  {
   "cell_type": "code",
   "execution_count": 23,
   "metadata": {
    "ExecuteTime": {
     "end_time": "2020-09-25T14:08:20.050863Z",
     "start_time": "2020-09-25T14:08:20.042048Z"
    }
   },
   "outputs": [
    {
     "data": {
      "text/plain": [
       "array([[ 8, 21],\n",
       "       [ 0, -1]])"
      ]
     },
     "execution_count": 23,
     "metadata": {},
     "output_type": "execute_result"
    }
   ],
   "source": [
    "T6 = np.array( ((2, 7), (0, -1)))\n",
    "T6_pow3 = la.matrix_power(T6, 3)\n",
    "T6_pow3"
   ]
  },
  {
   "cell_type": "markdown",
   "metadata": {},
   "source": [
    "#### Given T, calculate $T^5$"
   ]
  },
  {
   "cell_type": "code",
   "execution_count": 24,
   "metadata": {
    "ExecuteTime": {
     "end_time": "2020-09-25T14:08:20.064186Z",
     "start_time": "2020-09-25T14:08:20.052866Z"
    }
   },
   "outputs": [
    {
     "data": {
      "text/plain": [
       "array([[ 1,  0],\n",
       "       [ 2, -1]])"
      ]
     },
     "execution_count": 24,
     "metadata": {},
     "output_type": "execute_result"
    }
   ],
   "source": [
    "T7 = np.array( ((1, 0), (2, -1)))\n",
    "T7_pow5 = la.matrix_power(T7, 5)\n",
    "T7_pow5"
   ]
  },
  {
   "cell_type": "code",
   "execution_count": null,
   "metadata": {},
   "outputs": [],
   "source": []
  }
 ],
 "metadata": {
  "kernelspec": {
   "display_name": "Python 3",
   "language": "python",
   "name": "python3"
  },
  "language_info": {
   "codemirror_mode": {
    "name": "ipython",
    "version": 3
   },
   "file_extension": ".py",
   "mimetype": "text/x-python",
   "name": "python",
   "nbconvert_exporter": "python",
   "pygments_lexer": "ipython3",
   "version": "3.7.4"
  },
  "toc": {
   "base_numbering": 1,
   "nav_menu": {},
   "number_sections": true,
   "sideBar": true,
   "skip_h1_title": false,
   "title_cell": "Table of Contents",
   "title_sidebar": "Contents",
   "toc_cell": false,
   "toc_position": {},
   "toc_section_display": true,
   "toc_window_display": false
  },
  "varInspector": {
   "cols": {
    "lenName": 16,
    "lenType": 16,
    "lenVar": 40
   },
   "kernels_config": {
    "python": {
     "delete_cmd_postfix": "",
     "delete_cmd_prefix": "del ",
     "library": "var_list.py",
     "varRefreshCmd": "print(var_dic_list())"
    },
    "r": {
     "delete_cmd_postfix": ") ",
     "delete_cmd_prefix": "rm(",
     "library": "var_list.r",
     "varRefreshCmd": "cat(var_dic_list()) "
    }
   },
   "types_to_exclude": [
    "module",
    "function",
    "builtin_function_or_method",
    "instance",
    "_Feature"
   ],
   "window_display": false
  }
 },
 "nbformat": 4,
 "nbformat_minor": 2
}
